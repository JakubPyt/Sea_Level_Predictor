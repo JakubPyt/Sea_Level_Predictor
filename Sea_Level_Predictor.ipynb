{
  "nbformat": 4,
  "nbformat_minor": 0,
  "metadata": {
    "colab": {
      "name": "Sea_Level_Predictor.ipynb",
      "provenance": [],
      "collapsed_sections": [],
      "toc_visible": true,
      "mount_file_id": "1cy4GF4V0MlTnEp4XjHrCDgtbadKCsBpY",
      "authorship_tag": "ABX9TyM3cwEtoLuQu0EN9hxfGZR8",
      "include_colab_link": true
    },
    "kernelspec": {
      "name": "python3",
      "display_name": "Python 3"
    },
    "language_info": {
      "name": "python"
    }
  },
  "cells": [
    {
      "cell_type": "markdown",
      "metadata": {
        "id": "view-in-github",
        "colab_type": "text"
      },
      "source": [
        "<a href=\"https://colab.research.google.com/github/JakubPyt/Sea_Level_Predictor/blob/main/Sea_Level_Predictor.ipynb\" target=\"_parent\"><img src=\"https://colab.research.google.com/assets/colab-badge.svg\" alt=\"Open In Colab\"/></a>"
      ]
    },
    {
      "cell_type": "markdown",
      "metadata": {
        "id": "ZGKXj2PVRC6d"
      },
      "source": [
        "# Sea Level Predictor"
      ]
    },
    {
      "cell_type": "markdown",
      "metadata": {
        "id": "dECZsxLEtub2"
      },
      "source": [
        "This project was created as part of the course on the free Code Camp website:\n",
        "\n",
        "https://www.freecodecamp.org/learn/data-analysis-with-python/data-analysis-with-python-projects/sea-level-predictor\n",
        "\n",
        "In this project, I have to analyze a dataset of the global average sea level change since 1880. I have to use the data to predict the sea level change through year 2050."
      ]
    },
    {
      "cell_type": "code",
      "metadata": {
        "id": "oxc1e9SrQtFL",
        "colab": {
          "base_uri": "https://localhost:8080/",
          "height": 195
        },
        "outputId": "4fa7fda0-a165-4ac3-e2d6-a9f1bfc31c0d"
      },
      "source": [
        "# Import of needed libraries\n",
        "import pandas as pd\n",
        "import matplotlib.pyplot as plt\n",
        "from scipy.stats import linregress\n",
        "\n",
        "# Import the data \n",
        "url = 'https://raw.githubusercontent.com/JakubPyt/Sea_Level_Predictor/main/epa-sea-level.csv'\n",
        "data = pd.read_csv(url, sep=';')\n",
        "\n",
        "# Display first five rows\n",
        "data.head()"
      ],
      "execution_count": 1,
      "outputs": [
        {
          "output_type": "execute_result",
          "data": {
            "text/html": [
              "<div>\n",
              "<style scoped>\n",
              "    .dataframe tbody tr th:only-of-type {\n",
              "        vertical-align: middle;\n",
              "    }\n",
              "\n",
              "    .dataframe tbody tr th {\n",
              "        vertical-align: top;\n",
              "    }\n",
              "\n",
              "    .dataframe thead th {\n",
              "        text-align: right;\n",
              "    }\n",
              "</style>\n",
              "<table border=\"1\" class=\"dataframe\">\n",
              "  <thead>\n",
              "    <tr style=\"text-align: right;\">\n",
              "      <th></th>\n",
              "      <th>Year</th>\n",
              "      <th>CSIRO Adjusted Sea Level</th>\n",
              "      <th>Lower Error Bound</th>\n",
              "      <th>Upper Error Bound</th>\n",
              "      <th>NOAA Adjusted Sea Level</th>\n",
              "    </tr>\n",
              "  </thead>\n",
              "  <tbody>\n",
              "    <tr>\n",
              "      <th>0</th>\n",
              "      <td>1880</td>\n",
              "      <td>0.000000</td>\n",
              "      <td>-0.952756</td>\n",
              "      <td>0.952756</td>\n",
              "      <td>NaN</td>\n",
              "    </tr>\n",
              "    <tr>\n",
              "      <th>1</th>\n",
              "      <td>1881</td>\n",
              "      <td>0.220472</td>\n",
              "      <td>-0.732283</td>\n",
              "      <td>1.173228</td>\n",
              "      <td>NaN</td>\n",
              "    </tr>\n",
              "    <tr>\n",
              "      <th>2</th>\n",
              "      <td>1882</td>\n",
              "      <td>-0.440945</td>\n",
              "      <td>-1.346457</td>\n",
              "      <td>0.464567</td>\n",
              "      <td>NaN</td>\n",
              "    </tr>\n",
              "    <tr>\n",
              "      <th>3</th>\n",
              "      <td>1883</td>\n",
              "      <td>-0.232283</td>\n",
              "      <td>-1.129921</td>\n",
              "      <td>0.665354</td>\n",
              "      <td>NaN</td>\n",
              "    </tr>\n",
              "    <tr>\n",
              "      <th>4</th>\n",
              "      <td>1884</td>\n",
              "      <td>0.590551</td>\n",
              "      <td>-0.283465</td>\n",
              "      <td>1.464567</td>\n",
              "      <td>NaN</td>\n",
              "    </tr>\n",
              "  </tbody>\n",
              "</table>\n",
              "</div>"
            ],
            "text/plain": [
              "   Year  CSIRO Adjusted Sea Level  ...  Upper Error Bound  NOAA Adjusted Sea Level\n",
              "0  1880                  0.000000  ...           0.952756                      NaN\n",
              "1  1881                  0.220472  ...           1.173228                      NaN\n",
              "2  1882                 -0.440945  ...           0.464567                      NaN\n",
              "3  1883                 -0.232283  ...           0.665354                      NaN\n",
              "4  1884                  0.590551  ...           1.464567                      NaN\n",
              "\n",
              "[5 rows x 5 columns]"
            ]
          },
          "metadata": {
            "tags": []
          },
          "execution_count": 1
        }
      ]
    },
    {
      "cell_type": "markdown",
      "metadata": {
        "id": "o9CJ4RiWu-TN"
      },
      "source": [
        "## Plot: Rise of the Sea Level\n",
        "\n",
        "Requirements:\n",
        "- Use matplotlib to create a scatter plot using the \"Year\" column as the x-axis and the \"CSIRO Adjusted Sea Level\" column as the y-axix.\n",
        "- Use the `linregress` function from `scipy.stats` to get the slope and y-intercept of the line of best fit. Plot the line of best fit over the top of the scatter plot. Make the line go through the year 2050 to predict the sea level rise in 2050.\n",
        "- Plot a new line of best fit just using the data from year 2000 through the most recent year in the dataset. Make the line also go through the year 2050 to predict the sea level rise in 2050 if the rate of rise continues as it has since the year 2000.\n",
        "- The x label should be \"Year\", the y label should be \"Sea Level (inches)\", and the title should be \"Rise of the Sea Level\"."
      ]
    },
    {
      "cell_type": "code",
      "metadata": {
        "colab": {
          "base_uri": "https://localhost:8080/",
          "height": 404
        },
        "id": "_DswNHZdbmZ-",
        "outputId": "70c218aa-316a-43ce-d29c-a5a68fb9830d"
      },
      "source": [
        "# ===================\n",
        "# Create scatter plot\n",
        "# ===================\n",
        "fig = plt.figure(figsize=(12,6))\n",
        "\n",
        "# Years which should be on plot\n",
        "years=[1850, 1875, 1900, 1925, 1950, 1975, 2000, 2025, 2050, 2075]\n",
        "\n",
        "# Create scatter plot\n",
        "plt.scatter(\n",
        "    x=data['Year'],  # Years from dataset\n",
        "    y=data['CSIRO Adjusted Sea Level'],  # Sea level from dataset\n",
        "    s=20,  # Size of markers\n",
        "    c='red',  # Color of markers\n",
        "    label=\"Sea Level by Year\"\n",
        ")\n",
        "\n",
        "# Set titles\n",
        "plt.title('Rise of the Sea Level')  \n",
        "plt.xlabel('Year')  \n",
        "plt.ylabel('Sea Level (inches)')\n",
        "\n",
        "# Set values displayed on x label\n",
        "plt.xticks(years)\n",
        "\n",
        "# Display grid\n",
        "plt.grid()\n",
        "\n",
        "# ===================\n",
        "# Create first line of best fit\n",
        "# ===================\n",
        "# This line show best fit to data from dataset\n",
        "# First, we have to calculate parameters for best fit based on data from dataset\n",
        "line1 = linregress(data['Year'], data['CSIRO Adjusted Sea Level'])\n",
        "\n",
        "# Now we can calculate position of line based on years in plot\n",
        "line1_plot = [line1.slope*xi + line1.intercept for xi in years]\n",
        "\n",
        "# Display line\n",
        "plt.plot(\n",
        "    years, \n",
        "    line1_plot, \n",
        "    label='Best fit for years since 1880'\n",
        ")\n",
        "\n",
        "# ===================\n",
        "# Create second line of best fit\n",
        "# ===================\n",
        "# This line show best fit to data since 2000\n",
        "# Get years and values from basic dataset\n",
        "years_from_2000 = data[data['Year'] > 2000]\n",
        "\n",
        "# As above\n",
        "line2 = linregress(years_from_2000['Year'], years_from_2000['CSIRO Adjusted Sea Level'])\n",
        "line2_plot = [line2.slope*xi + line2.intercept for xi in years]\n",
        "plt.plot(\n",
        "    years, \n",
        "    line2_plot, \n",
        "    label='Best fit for years since 2000'\n",
        ")\n",
        "\n",
        "# Display legend\n",
        "plt.legend(\n",
        "    loc='lower right'\n",
        ")\n",
        "\n",
        "# Show plot\n",
        "plt.show()"
      ],
      "execution_count": null,
      "outputs": [
        {
          "output_type": "display_data",
          "data": {
            "image/png": "[encoded data removed]",
            "text/plain": [
              "<Figure size 864x432 with 1 Axes>"
            ]
          },
          "metadata": {
            "tags": [],
            "needs_background": "light"
          }
        }
      ]
    }
  ]
}